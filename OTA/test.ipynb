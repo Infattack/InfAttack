{
 "cells": [
  {
   "cell_type": "code",
   "execution_count": 2,
   "metadata": {},
   "outputs": [],
   "source": [
    "from __future__ import division\n",
    "from __future__ import print_function\n",
    "\n",
    "import sys\n",
    "import copy\n",
    "import torch\n",
    "import argparse\n",
    "import numpy as np\n",
    "\n",
    "import utils\n",
    "import scipy.sparse as sp\n",
    "from utils import load_data\n",
    "from trains import train, test\n",
    "from models import model_construct\n",
    "from modelparser import model_parser\n",
    "from sklearn.linear_model import LogisticRegression\n",
    "\n",
    "sys.path.append('../')\n",
    "# Attack settings\n",
    "parser = argparse.ArgumentParser()\n",
    "parser.add_argument('--no-cuda', action='store_true', default=False,help='Disables CUDA training.')\n",
    "parser.add_argument('--seed', type=int, default=42,help='Random seed.')\n",
    "parser.add_argument('--sparse', action='store_true', default=True,help='Adj with sparse version or not.')\n",
    "parser.add_argument('--target_nodes_num', type=int, default=100,help='perturbed edges nums in non-target')\n",
    "parser.add_argument('--attack_object', type=str, default='white',choices=['white', 'gray'],help='white-box attack and gray-box attack')\n",
    "parser.add_argument('--model', type=str, default='GCN',choices=['GCN', 'SGC'],help='Model used to attack')\n",
    "parser.add_argument('--dataset', type=str, default='citeseer',choices=['cora', 'citeseer', 'pubmed'],help='Dataset used to attack')\n",
    "parser.add_argument('--attack_algorithm', type=str, default='one-time',choices=['one-time', 'iterative'],help='Comparative Experiment')\n",
    "\n",
    "args = parser.parse_args(args=[])\n",
    "\n",
    "args.cuda = False\n",
    "device = torch.device('cpu')\n",
    "\n",
    "# random seed\n",
    "np.random.seed(args.seed)\n",
    "torch.manual_seed(args.seed)\n",
    "if args.cuda:\n",
    "    torch.cuda.manual_seed(args.seed)"
   ]
  },
  {
   "cell_type": "code",
   "execution_count": 3,
   "metadata": {},
   "outputs": [
    {
     "name": "stderr",
     "output_type": "stream",
     "text": [
      "/Users/minhualin/Desktop/research/project-evasionGNN_influence/OTA/utils.py:96: RuntimeWarning: divide by zero encountered in power\n",
      "  r_inv = np.power(rowsum, -1).flatten()\n"
     ]
    }
   ],
   "source": [
    "# Load data\n",
    "adj, tn_adj, features, tn_features, labels, idx_train, idx_val, idx_test = load_data(args.dataset, args)"
   ]
  },
  {
   "cell_type": "code",
   "execution_count": 8,
   "metadata": {},
   "outputs": [
    {
     "data": {
      "text/plain": [
       "(array([[1],\n",
       "        [5],\n",
       "        [1],\n",
       "        ...,\n",
       "        [3],\n",
       "        [1],\n",
       "        [1]]),\n",
       " 1)"
      ]
     },
     "execution_count": 8,
     "metadata": {},
     "output_type": "execute_result"
    }
   ],
   "source": [
    "(np.array(adj.sum(1)), 1)"
   ]
  },
  {
   "cell_type": "code",
   "execution_count": null,
   "metadata": {},
   "outputs": [],
   "source": []
  }
 ],
 "metadata": {
  "interpreter": {
   "hash": "28ac4713193c24213b26b6d6cd6674ed6cfc90294e4e74d1eb9c7fbc38ad4d4b"
  },
  "kernelspec": {
   "display_name": "Python 3.8.12 ('py38_torch110')",
   "language": "python",
   "name": "python3"
  },
  "language_info": {
   "codemirror_mode": {
    "name": "ipython",
    "version": 3
   },
   "file_extension": ".py",
   "mimetype": "text/x-python",
   "name": "python",
   "nbconvert_exporter": "python",
   "pygments_lexer": "ipython3",
   "version": "3.8.12"
  },
  "orig_nbformat": 4
 },
 "nbformat": 4,
 "nbformat_minor": 2
}
